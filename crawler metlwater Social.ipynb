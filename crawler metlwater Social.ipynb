{
 "cells": [
  {
   "cell_type": "code",
   "execution_count": 3,
   "metadata": {},
   "outputs": [],
   "source": [
    "import pandas as pd\n",
    "import requests\n",
    "import bs4\n",
    "import re\n",
    "import numpy as np\n",
    "from selenium import webdriver\n",
    "from selenium.webdriver.common.by import By\n",
    "from selenium.webdriver.common.action_chains import ActionChains\n",
    "from selenium.webdriver.support import expected_conditions as EC\n",
    "from selenium.webdriver.support.ui import WebDriverWait\n",
    "from selenium.webdriver.chrome.options import Options\n",
    "import warnings\n",
    "warnings.filterwarnings(\"ignore\")\n",
    "import selenium\n",
    "import time\n",
    "from fake_useragent import UserAgent\n",
    "import pickle"
   ]
  },
  {
   "cell_type": "code",
   "execution_count": 27,
   "metadata": {},
   "outputs": [],
   "source": [
    "class meltwaterdetails:\n",
    "  def __init__(self, url,emailid,password):\n",
    "    self.url = url\n",
    "    self.emailid = emailid\n",
    "    self.password = password\n",
    "  def getdata(self):\n",
    "    options = webdriver.ChromeOptions()\n",
    "    preferences= {\"profile.default_content_settings.popups\": 0,\"download.default_directory\":r\"\\data\",\"directory_upgrade\": True}\n",
    "    options.add_experimental_option(\"prefs\",preferences)\n",
    "    chrome = r'C:\\Users\\shardul\\printPDF\\chromedriver_win32\\chromedriver.exe'\n",
    "    #options.add_extension(r'C:\\Users\\shardul\\Downloads\\extension_3_9_5_0.crx')\n",
    "    driver = webdriver.Chrome(chrome,chrome_options = options)\n",
    "    driver.get(self.url)\n",
    "    driver.maximize_window()\n",
    "    wait = WebDriverWait(driver, 10)\n",
    "    try: \n",
    "        driver.implicitly_wait(15) \n",
    "        loginBox = driver.find_element_by_xpath('//*[@id=\"input_0\"]') \n",
    "        loginBox.send_keys(self.emailid)\n",
    "        passWordBox = driver.find_element_by_xpath('//*[@id=\"input_1\"]') \n",
    "        passWordBox.send_keys(self.password)\n",
    "        nextButton = driver.find_elements_by_xpath('//*[@id=\"mw\"]/ui-view/login/md-content/div/div[2]/div[2]/form/button') \n",
    "        nextButton[0].click() \n",
    "        print('Login Successful...!!')\n",
    "\n",
    "    except: \n",
    "        print('Login Failed')\n",
    "    login = wait.until(EC.element_to_be_clickable((By.XPATH,'//*[@id=\"mw-mi-navigation-item__dashboardManager\"]/mi-nav-item/a/div')))\n",
    "    login.click() \n",
    "    social=wait.until(EC.element_to_be_clickable((By.XPATH,\n",
    "                                                  '//*[@id=\"mw-dashboard-list__table\"]/md-card[2]/md-table-container/table/tbody/tr[7]/td[2]/span')))\n",
    "    social.click()\n",
    "    elements = driver.find_elements_by_xpath('//*[@id=\"6052d9eee8eb53205c498992\"]/div/div/div')\n",
    "    elements=wait.until(EC.presence_of_all_elements_located((By.XPATH, '//*[@id=\"6052d9eee8eb53205c498992\"]/div/div/div')))\n",
    "    for i in range(len(elements)):\n",
    "        print(len(elements))\n",
    "        elements = driver.find_elements_by_xpath('//*[@id=\"6052d9eee8eb53205c498992\"]/div/div/div')\n",
    "        elements = wait.until(EC.presence_of_all_elements_located((By.XPATH,'//*[@id=\"6052d9eee8eb53205c498992\"]/div/div/div' )))\n",
    "        elements[i].click()\n",
    "        time.sleep(5)\n",
    "        data = driver.find_element_by_xpath('//*[@id=\"6052d9eee8eb53205c498992\"]/div/div/div[1]/widget-loader/div/div[3]/div[1]/div[2]')\n",
    "        data = wait.until(EC.element_to_be_clickable((By.XPATH,'//*[@id=\"6052d9eee8eb53205c498992\"]/div/div/div[1]/widget-loader/div/div[3]/div[1]/div[2]'))) \n",
    "        data.click()\n",
    "        time.sleep(2)\n",
    "        dropdown = wait.until(EC.element_to_be_clickable((By.XPATH,'//*[@id=\"md-content-analyze-web\"]/div/ui-view/div/widget-loader/div/div[3]/table/tbody/tr/td[1]/div/span[3]/dropdown-menu/div/div[2]')))\n",
    "        dropdown.click()\n",
    "        time.sleep(2)     \n",
    "        elem = driver.find_element_by_xpath('//*[@id=\"md-content-analyze-web\"]/div/ui-view/div/widget-loader/div/div[3]/table/tbody/tr/td[1]/div/span[3]/dropdown-menu/div/div[3]/div/div/scrollable-div/div/div/div/div[1]/ul')\n",
    "        elem = wait.until(EC.presence_of_element_located((By.XPATH,'//*[@id=\"md-content-analyze-web\"]/div/ui-view/div/widget-loader/div/div[3]/table/tbody/tr/td[1]/div/span[3]/dropdown-menu/div/div[3]/div/div/scrollable-div/div/div/div/div[1]/ul')))\n",
    "        items= driver.find_elements_by_tag_name(\"li\")\n",
    "        items= wait.until(EC.presence_of_all_elements_located((By.TAG_NAME,'li')))\n",
    "        edition=[]\n",
    "        print(len(items))\n",
    "        edition_lst = ['No Manual Sentiments - 1','No manual Sentiments - 2','No manual Sentiments - 3','No manual Sentiments - 4']  \n",
    "        for a in range(len(items)):\n",
    "            items= driver.find_elements_by_tag_name(\"li\")\n",
    "            items= wait.until(EC.presence_of_all_elements_located((By.TAG_NAME,'li')))\n",
    "            text = items[a].text\n",
    "            print(text)\n",
    "            edition.append(text)\n",
    "            print(edition)\n",
    "            if any(ele in edition for ele in edition_lst):\n",
    "                items[a].click()\n",
    "                \"\"\"\"\n",
    "                dropdown1= wait.until(EC.element_to_be_clickable((By.XPATH,'//*[@id=\"md-content-analyze-web\"]/div/ui-view/div/widget-loader/div/div[3]/table/tbody/tr/td[2]/div/span[1]/dropdown-menu/div/div[1]/div')))\n",
    "                dropdown1.click()\n",
    "                elem1= driver.find_element_by_xpath('//*[@id=\"md-content-analyze-web\"]/div/ui-view/div/widget-loader/div/div[3]/table/tbody/tr/td[2]/div/span[1]/dropdown-menu/div/div[3]/div/div/ul')\n",
    "                elem1 = wait.until(EC.presence_of_element_located((By.XPATH,'//*[@id=\"md-content-analyze-web\"]/div/ui-view/div/widget-loader/div/div[3]/table/tbody/tr/td[2]/div/span[1]/dropdown-menu/div/div[3]/div/div/ul')))\n",
    "                items1= driver.find_elements_by_tag_name(\"li\")\n",
    "                items1= wait.until(EC.presence_of_all_elements_located((By.TAG_NAME,'li')))\n",
    "                download1=[]\n",
    "                download_lst1 = ['Export (Raw Data)']\n",
    "                for x in range(len(items1)):\n",
    "                    text1 = items1[x].text\n",
    "                    download1.append(text1)\n",
    "                    if any(ele1 in download1 for ele1 in download_lst1):\n",
    "                        items1[x].click()\n",
    "                \"\"\"\n",
    "        dropdown = wait.until(EC.element_to_be_clickable((By.XPATH,'//*[@id=\"md-content-analyze-web\"]/div/ui-view/div/widget-loader/div/div[3]/table/tbody/tr/td[1]/div/span[3]/dropdown-menu/div/div[2]')))\n",
    "        dropdown.click()\n",
    "    driver.quit()\n",
    "    return"
   ]
  },
  {
   "cell_type": "code",
   "execution_count": 29,
   "metadata": {},
   "outputs": [
    {
     "name": "stdout",
     "output_type": "stream",
     "text": [
      "Login Successful...!!\n"
     ]
    },
    {
     "ename": "TimeoutException",
     "evalue": "Message: \n",
     "output_type": "error",
     "traceback": [
      "\u001b[1;31m---------------------------------------------------------------------------\u001b[0m",
      "\u001b[1;31mTimeoutException\u001b[0m                          Traceback (most recent call last)",
      "\u001b[1;32m<ipython-input-29-016f4097a6db>\u001b[0m in \u001b[0;36m<module>\u001b[1;34m\u001b[0m\n\u001b[0;32m      3\u001b[0m \u001b[0murl\u001b[0m \u001b[1;33m=\u001b[0m \u001b[1;34m'https://app.meltwater.com/home'\u001b[0m\u001b[1;33m\u001b[0m\u001b[1;33m\u001b[0m\u001b[0m\n\u001b[0;32m      4\u001b[0m \u001b[0mp1\u001b[0m \u001b[1;33m=\u001b[0m \u001b[0mmeltwaterdetails\u001b[0m\u001b[1;33m(\u001b[0m\u001b[0murl\u001b[0m\u001b[1;33m,\u001b[0m\u001b[0memailid\u001b[0m\u001b[1;33m,\u001b[0m\u001b[0mpassword\u001b[0m\u001b[1;33m)\u001b[0m\u001b[1;33m\u001b[0m\u001b[1;33m\u001b[0m\u001b[0m\n\u001b[1;32m----> 5\u001b[1;33m \u001b[0mp1\u001b[0m\u001b[1;33m.\u001b[0m\u001b[0mgetdata\u001b[0m\u001b[1;33m(\u001b[0m\u001b[1;33m)\u001b[0m\u001b[1;33m\u001b[0m\u001b[1;33m\u001b[0m\u001b[0m\n\u001b[0m",
      "\u001b[1;32m<ipython-input-27-3bf460fd3197>\u001b[0m in \u001b[0;36mgetdata\u001b[1;34m(self)\u001b[0m\n\u001b[0;32m     29\u001b[0m     \u001b[0mlogin\u001b[0m\u001b[1;33m.\u001b[0m\u001b[0mclick\u001b[0m\u001b[1;33m(\u001b[0m\u001b[1;33m)\u001b[0m\u001b[1;33m\u001b[0m\u001b[1;33m\u001b[0m\u001b[0m\n\u001b[0;32m     30\u001b[0m     social=wait.until(EC.element_to_be_clickable((By.XPATH,\n\u001b[1;32m---> 31\u001b[1;33m                                                   '//*[@id=\"mw-dashboard-list__table\"]/md-card[2]/md-table-container/table/tbody/tr[7]/td[2]/span')))\n\u001b[0m\u001b[0;32m     32\u001b[0m     \u001b[0msocial\u001b[0m\u001b[1;33m.\u001b[0m\u001b[0mclick\u001b[0m\u001b[1;33m(\u001b[0m\u001b[1;33m)\u001b[0m\u001b[1;33m\u001b[0m\u001b[1;33m\u001b[0m\u001b[0m\n\u001b[0;32m     33\u001b[0m     \u001b[0melements\u001b[0m \u001b[1;33m=\u001b[0m \u001b[0mdriver\u001b[0m\u001b[1;33m.\u001b[0m\u001b[0mfind_elements_by_xpath\u001b[0m\u001b[1;33m(\u001b[0m\u001b[1;34m'//*[@id=\"6052d9eee8eb53205c498992\"]/div/div/div'\u001b[0m\u001b[1;33m)\u001b[0m\u001b[1;33m\u001b[0m\u001b[1;33m\u001b[0m\u001b[0m\n",
      "\u001b[1;32m~\\anaconda3\\lib\\site-packages\\selenium\\webdriver\\support\\wait.py\u001b[0m in \u001b[0;36muntil\u001b[1;34m(self, method, message)\u001b[0m\n\u001b[0;32m     78\u001b[0m             \u001b[1;32mif\u001b[0m \u001b[0mtime\u001b[0m\u001b[1;33m.\u001b[0m\u001b[0mtime\u001b[0m\u001b[1;33m(\u001b[0m\u001b[1;33m)\u001b[0m \u001b[1;33m>\u001b[0m \u001b[0mend_time\u001b[0m\u001b[1;33m:\u001b[0m\u001b[1;33m\u001b[0m\u001b[1;33m\u001b[0m\u001b[0m\n\u001b[0;32m     79\u001b[0m                 \u001b[1;32mbreak\u001b[0m\u001b[1;33m\u001b[0m\u001b[1;33m\u001b[0m\u001b[0m\n\u001b[1;32m---> 80\u001b[1;33m         \u001b[1;32mraise\u001b[0m \u001b[0mTimeoutException\u001b[0m\u001b[1;33m(\u001b[0m\u001b[0mmessage\u001b[0m\u001b[1;33m,\u001b[0m \u001b[0mscreen\u001b[0m\u001b[1;33m,\u001b[0m \u001b[0mstacktrace\u001b[0m\u001b[1;33m)\u001b[0m\u001b[1;33m\u001b[0m\u001b[1;33m\u001b[0m\u001b[0m\n\u001b[0m\u001b[0;32m     81\u001b[0m \u001b[1;33m\u001b[0m\u001b[0m\n\u001b[0;32m     82\u001b[0m     \u001b[1;32mdef\u001b[0m \u001b[0muntil_not\u001b[0m\u001b[1;33m(\u001b[0m\u001b[0mself\u001b[0m\u001b[1;33m,\u001b[0m \u001b[0mmethod\u001b[0m\u001b[1;33m,\u001b[0m \u001b[0mmessage\u001b[0m\u001b[1;33m=\u001b[0m\u001b[1;34m''\u001b[0m\u001b[1;33m)\u001b[0m\u001b[1;33m:\u001b[0m\u001b[1;33m\u001b[0m\u001b[1;33m\u001b[0m\u001b[0m\n",
      "\u001b[1;31mTimeoutException\u001b[0m: Message: \n"
     ]
    }
   ],
   "source": [
    "emailid='Samvadm21@gmail.com'\n",
    "password='password'\n",
    "url = 'https://app.meltwater.com/home'\n",
    "p1 = meltwaterdetails(url,emailid,password)\n",
    "p1.getdata()"
   ]
  },
  {
   "cell_type": "code",
   "execution_count": null,
   "metadata": {},
   "outputs": [],
   "source": []
  }
 ],
 "metadata": {
  "kernelspec": {
   "display_name": "Python 3",
   "language": "python",
   "name": "python3"
  },
  "language_info": {
   "codemirror_mode": {
    "name": "ipython",
    "version": 3
   },
   "file_extension": ".py",
   "mimetype": "text/x-python",
   "name": "python",
   "nbconvert_exporter": "python",
   "pygments_lexer": "ipython3",
   "version": "3.7.6"
  }
 },
 "nbformat": 4,
 "nbformat_minor": 4
}
